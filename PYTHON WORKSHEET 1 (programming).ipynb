{
 "cells": [
  {
   "cell_type": "code",
   "execution_count": 1,
   "id": "5dbca701",
   "metadata": {},
   "outputs": [
    {
     "name": "stdout",
     "output_type": "stream",
     "text": [
      "Enter Number4\n",
      "Factorial= 24\n"
     ]
    }
   ],
   "source": [
    "i = int(input('Enter Number'))\n",
    "\n",
    "fac = 1\n",
    "\n",
    "while  i>0 :\n",
    "    fac = fac*i\n",
    "    i=i-1\n",
    "    \n",
    "print('Factorial=',fac)    "
   ]
  },
  {
   "cell_type": "code",
   "execution_count": 2,
   "id": "e94d1a2f",
   "metadata": {},
   "outputs": [
    {
     "name": "stdout",
     "output_type": "stream",
     "text": [
      "Enter The No24\n",
      "Its a Composite No\n"
     ]
    }
   ],
   "source": [
    "num = int(input('Enter The No'))\n",
    "\n",
    "count = 0\n",
    "i = 1\n",
    "\n",
    "while i<=num:\n",
    "    if num%i==0:\n",
    "        count=count+1\n",
    "        \n",
    "    i=i+1\n",
    "    \n",
    "if count==2:\n",
    "    print('Its a Prime No')\n",
    "    \n",
    "elif count>2:\n",
    "    print('Its a Composite No')\n",
    "    \n",
    "else:\n",
    "    print('The number is neither prime or composite')"
   ]
  },
  {
   "cell_type": "code",
   "execution_count": 5,
   "id": "41f764da",
   "metadata": {},
   "outputs": [
    {
     "name": "stdout",
     "output_type": "stream",
     "text": [
      "Enter String:pap\n",
      "Palindrome String\n"
     ]
    }
   ],
   "source": [
    "a =input('Enter String:')\n",
    "\n",
    "b =a[-1::-1]\n",
    "\n",
    "if (a==b):\n",
    "    print('Palindrome String')\n",
    "    \n",
    "else:\n",
    "    print('Not Palindrome String ')"
   ]
  },
  {
   "cell_type": "code",
   "execution_count": 6,
   "id": "763c44d4",
   "metadata": {},
   "outputs": [
    {
     "name": "stdout",
     "output_type": "stream",
     "text": [
      "Input length of shorter triangle side: \n",
      "Enter a: 2\n",
      "Enter b: 4\n",
      "The lenght of hypotenuse is:  4.47213595499958\n"
     ]
    }
   ],
   "source": [
    "from math import sqrt\n",
    "print('Input length of shorter triangle side: ')\n",
    "\n",
    "a = float(input('Enter a: '))\n",
    "\n",
    "b = float(input('Enter b: '))\n",
    "\n",
    "c = sqrt(a**2 + b**2)\n",
    "\n",
    "print('The lenght of hypotenuse is: ', c)"
   ]
  },
  {
   "cell_type": "code",
   "execution_count": 9,
   "id": "40149b83",
   "metadata": {},
   "outputs": [
    {
     "name": "stdout",
     "output_type": "stream",
     "text": [
      "Enter String: welcome to python programming\n",
      "{'w': 1, 'e': 2, 'l': 1, 'c': 1, 'o': 4, 'm': 3, ' ': 3, 't': 2, 'p': 2, 'y': 1, 'h': 1, 'n': 2, 'r': 2, 'g': 2, 'a': 1, 'i': 1}\n"
     ]
    }
   ],
   "source": [
    "str = input('Enter String: ')\n",
    "\n",
    "l = list(str)\n",
    "\n",
    "freq = [l.count(ele) for ele in l]\n",
    "\n",
    "d = dict(zip(l,freq))\n",
    "\n",
    "print(d)"
   ]
  },
  {
   "cell_type": "code",
   "execution_count": null,
   "id": "5707ec78",
   "metadata": {},
   "outputs": [],
   "source": []
  }
 ],
 "metadata": {
  "kernelspec": {
   "display_name": "Python 3 (ipykernel)",
   "language": "python",
   "name": "python3"
  },
  "language_info": {
   "codemirror_mode": {
    "name": "ipython",
    "version": 3
   },
   "file_extension": ".py",
   "mimetype": "text/x-python",
   "name": "python",
   "nbconvert_exporter": "python",
   "pygments_lexer": "ipython3",
   "version": "3.9.12"
  }
 },
 "nbformat": 4,
 "nbformat_minor": 5
}
